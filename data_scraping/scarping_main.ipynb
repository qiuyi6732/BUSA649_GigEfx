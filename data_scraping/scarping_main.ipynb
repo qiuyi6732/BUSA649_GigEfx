{
 "cells": [
  {
   "cell_type": "code",
   "execution_count": 23,
   "id": "9ea98c00",
   "metadata": {},
   "outputs": [
    {
     "name": "stdout",
     "output_type": "stream",
     "text": [
      "/Users/wangqiuyi/Downloads/chromedriver-mac-arm64/chromedriver\n"
     ]
    }
   ],
   "source": [
    "import os\n",
    "for root, dirs, files in os.walk(\"/Users/wangqiuyi/Downloads/\"):\n",
    "    for name in files:\n",
    "        if name == \"chromedriver\":\n",
    "            print(os.path.join(root, name))\n"
   ]
  },
  {
   "cell_type": "code",
   "execution_count": 25,
   "id": "a0351c83",
   "metadata": {},
   "outputs": [
    {
     "name": "stdout",
     "output_type": "stream",
     "text": [
      "Scraping: Food Cupboard\n",
      "Scraping: Personal Care & Hygiene\n",
      "Scraping: Liquor Store\n",
      "        Category                 ItemID  \\\n",
      "0  Food Cupboard  000000000000349246_CS   \n",
      "1  Food Cupboard  000000000000349246_EA   \n",
      "2  Food Cupboard  000000000000211805_EA   \n",
      "3  Food Cupboard  000000000000515687_EA   \n",
      "4  Food Cupboard  000000000000195758_EA   \n",
      "\n",
      "                                     ItemName  Price  IsPromotion  \n",
      "0              PnP UHT Full Cream Milk 6 x 1L  94.99        False  \n",
      "1                  PnP UHT Full Cream Milk 1L  16.99        False  \n",
      "2  Knorrox Chilli Beef Soya Mince in Bag 400g  32.99        False  \n",
      "3           Knorr Vegetable Stock Pot 4 x 28g  36.99        False  \n",
      "4                             Tastic Rice 2kg  34.99        False  \n",
      "\n",
      "Total products collected: 90\n"
     ]
    }
   ],
   "source": [
    "from selenium import webdriver\n",
    "from selenium.webdriver.chrome.service import Service\n",
    "from selenium.webdriver.chrome.options import Options\n",
    "from selenium.webdriver.common.by import By\n",
    "from selenium.webdriver.support.ui import WebDriverWait\n",
    "from selenium.webdriver.support import expected_conditions as EC\n",
    "import time\n",
    "import pandas as pd\n",
    "\n",
    "# ========== Initialization ==========\n",
    "driver_path = \"/Users/wangqiuyi/Downloads/chromedriver-mac-arm64/chromedriver\"\n",
    "options = Options()\n",
    "# options.add_argument('--headless')  # Optional: run in headless mode\n",
    "service = Service(driver_path)\n",
    "driver = webdriver.Chrome(service=service, options=options)\n",
    "\n",
    "# ========== Category links ==========\n",
    "category_links = [\n",
    "    (\"Food Cupboard\", \"https://www.pnp.co.za/c/pnpbase?query=:relevance:allCategories:pnpbase:category:food-cupboard-423144840\"),\n",
    "    (\"Personal Care & Hygiene\", \"https://www.pnp.co.za/c/pnpbase?query=:relevance:allCategories:pnpbase:category:personal-care-and-hygiene-423144840\"),\n",
    "    (\"Liquor Store\", \"https://www.pnp.co.za/c/pnpbase?query=:relevance:allCategories:pnpbase:category:liquor-store-423144840\"),\n",
    "    # Add more categories if needed...\n",
    "]\n",
    "\n",
    "# ========== Product scraping function ==========\n",
    "def scrape_products(category_name, category_url, max_items=30):\n",
    "    print(f\"Scraping: {category_name}\")\n",
    "    driver.get(category_url)\n",
    "    time.sleep(5)\n",
    "\n",
    "    # Scroll to trigger lazy loading\n",
    "    for _ in range(3):\n",
    "        driver.execute_script(\"window.scrollTo(0, document.body.scrollHeight);\")\n",
    "        time.sleep(1.5)\n",
    "\n",
    "    # Wait until product elements are loaded\n",
    "    try:\n",
    "        WebDriverWait(driver, 15).until(\n",
    "            EC.presence_of_element_located((By.CSS_SELECTOR, \".product-grid-item[data-cnstrc-item-name]\"))\n",
    "        )\n",
    "    except:\n",
    "        print(f\"[Warning] No items found for {category_name}\")\n",
    "        return pd.DataFrame()\n",
    "\n",
    "    # Extract product elements\n",
    "    items = driver.find_elements(By.CSS_SELECTOR, \".product-grid-item[data-cnstrc-item-name]\")\n",
    "\n",
    "    data = []\n",
    "    for p in items[:max_items]:\n",
    "        try:\n",
    "            data.append({\n",
    "                \"Category\": category_name,\n",
    "                \"ItemID\": p.get_attribute(\"data-cnstrc-item-id\"),\n",
    "                \"ItemName\": p.get_attribute(\"data-cnstrc-item-name\"),\n",
    "                \"Price\": p.get_attribute(\"data-cnstrc-item-price\"),\n",
    "                \"IsPromotion\": \"On%20Promotion\" in category_url\n",
    "            })\n",
    "        except:\n",
    "            continue\n",
    "\n",
    "    return pd.DataFrame(data)\n",
    "\n",
    "# ========== Main loop ==========\n",
    "all_products = pd.DataFrame()\n",
    "for name, url in category_links:\n",
    "    df = scrape_products(name, url)\n",
    "    all_products = pd.concat([all_products, df], ignore_index=True)\n",
    "\n",
    "driver.quit()\n",
    "\n",
    "# ========== Preview result ==========\n",
    "print(all_products.head())\n",
    "print(f\"\\nTotal products collected: {len(all_products)}\")\n",
    "\n",
    "# ========== Save to CSV if needed ==========\n",
    "all_products.to_csv(\"sample_main.csv\", index=False)\n"
   ]
  }
 ],
 "metadata": {
  "kernelspec": {
   "display_name": "Python 3",
   "language": "python",
   "name": "python3"
  },
  "language_info": {
   "codemirror_mode": {
    "name": "ipython",
    "version": 3
   },
   "file_extension": ".py",
   "mimetype": "text/x-python",
   "name": "python",
   "nbconvert_exporter": "python",
   "pygments_lexer": "ipython3",
   "version": "3.9.6"
  }
 },
 "nbformat": 4,
 "nbformat_minor": 5
}
